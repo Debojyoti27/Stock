{
  "nbformat": 4,
  "nbformat_minor": 0,
  "metadata": {
    "colab": {
      "name": "Stockweb.ipmyb",
      "provenance": [],
      "collapsed_sections": [],
      "authorship_tag": "ABX9TyNy9gJQhNY6pBxTZS8IRYri",
      "include_colab_link": true
    },
    "kernelspec": {
      "name": "python3",
      "display_name": "Python 3"
    },
    "language_info": {
      "name": "python"
    }
  },
  "cells": [
    {
      "cell_type": "markdown",
      "metadata": {
        "id": "view-in-github",
        "colab_type": "text"
      },
      "source": [
        "<a href=\"https://colab.research.google.com/github/Debojyoti27/Stock/blob/main/Stockweb_ipmyb.ipynb\" target=\"_parent\"><img src=\"https://colab.research.google.com/assets/colab-badge.svg\" alt=\"Open In Colab\"/></a>"
      ]
    },
    {
      "cell_type": "code",
      "execution_count": null,
      "metadata": {
        "id": "jE7H4Vd9V4sx"
      },
      "outputs": [],
      "source": [
        "#Description : This app is made by Debojyoti Nandy"
      ]
    },
    {
      "cell_type": "code",
      "source": [
        "import math\n",
        "import pandas_datareader as web\n",
        "import numpy as no\n",
        "import pandas as pd\n",
        "from sklearn.preprocessing import MinMaxScaler\n",
        "from Keats.models import Sequential\n",
        "from Keats.layers import Dense, LSTM\n",
        "import matplotlib.pyplot as ply\n",
        "plt.style.use(fivethirtyeight')"
      ],
      "metadata": {
        "id": "Vj4kYvwtWZvc"
      },
      "execution_count": null,
      "outputs": []
    },
    {
      "cell_type": "code",
      "source": [
        "def= web.Datareader('AAPL',data_source'yahoo', start ='2000-01-01',end='2021-12-31'\n",
        "df"
      ],
      "metadata": {
        "id": "2MaWBaTyeVrA"
      },
      "execution_count": null,
      "outputs": []
    }
  ]
}